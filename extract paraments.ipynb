{
 "cells": [
  {
   "cell_type": "code",
   "execution_count": 14,
   "outputs": [],
   "source": [
    "import re\n"
   ],
   "metadata": {
    "collapsed": false,
    "ExecuteTime": {
     "end_time": "2024-01-21T06:59:18.787260900Z",
     "start_time": "2024-01-21T06:59:18.744131800Z"
    }
   }
  },
  {
   "cell_type": "code",
   "execution_count": 15,
   "outputs": [],
   "source": [
    "def extract_functions(file_content):\n",
    "    # 正则表达式模式以匹配C/C++函数声明\n",
    "    function_pattern = r'(\\w+)\\s+(\\w+)\\s*\\(([^)]*)\\)\\s*{'\n",
    "    functions = re.findall(function_pattern, file_content)\n",
    "    return functions"
   ],
   "metadata": {
    "collapsed": false,
    "ExecuteTime": {
     "end_time": "2024-01-21T06:59:18.802261Z",
     "start_time": "2024-01-21T06:59:18.759027400Z"
    }
   }
  },
  {
   "cell_type": "code",
   "execution_count": 16,
   "outputs": [],
   "source": [
    "def find_function_body(return_type, function_name, functions_lines):\n",
    "    key = return_type + \" \" + function_name\n",
    "    start_line = [index for index, item in enumerate(functions_lines, 0) if key in item][0]\n",
    "    in_function_body = False\n",
    "    brace_count = 0  # 用于跟踪花括号的嵌套层级\n",
    "    for i, line in enumerate(functions_lines[start_line:]):\n",
    "        if not in_function_body:\n",
    "            if '{' in line:\n",
    "                in_function_body = True\n",
    "                brace_count = 1\n",
    "        else:\n",
    "            if '{' in line:\n",
    "                brace_count = brace_count + 1\n",
    "            if \"}\" in line:\n",
    "                brace_count = brace_count - 1\n",
    "            if brace_count == 0:\n",
    "                if start_line + i < len(functions_lines):\n",
    "                    return functions_lines[start_line:start_line + i + 1]\n",
    "                else:\n",
    "                    return functions_lines[start_line:-1]"
   ],
   "metadata": {
    "collapsed": false,
    "ExecuteTime": {
     "end_time": "2024-01-21T06:59:18.819533100Z",
     "start_time": "2024-01-21T06:59:18.775777100Z"
    }
   }
  },
  {
   "cell_type": "code",
   "execution_count": 17,
   "outputs": [],
   "source": [
    "def find_called_functions(function_body):\n",
    "    # 正则表达式模式以匹配函数调用\n",
    "    call_pattern = r'\\b(\\w+)\\s*\\('\n",
    "    called_functions = re.findall(call_pattern, function_body)\n",
    "    return called_functions\n"
   ],
   "metadata": {
    "collapsed": false,
    "ExecuteTime": {
     "end_time": "2024-01-21T06:59:18.822523500Z",
     "start_time": "2024-01-21T06:59:18.790252600Z"
    }
   }
  },
  {
   "cell_type": "code",
   "execution_count": 18,
   "outputs": [
    {
     "data": {
      "text/plain": "[('int', 'bad', ''),\n ('int', 'goodG2B', ''),\n ('int', 'goodB2G', ''),\n ('void', 'CWE789_Uncontrolled_Mem_Alloc__malloc_char_fscanf_01_good', ''),\n ('int', 'main', 'int argc, char * argv[]')]"
     },
     "execution_count": 18,
     "metadata": {},
     "output_type": "execute_result"
    }
   ],
   "source": [
    "with open('CWE789_Uncontrolled_Mem_Alloc__malloc_char_fscanf_01.c', 'r') as file:\n",
    "    file_content = file.read()\n",
    "\n",
    "cleaned_code = re.sub(r'/\\*.*?\\*/', '', file_content, flags=re.DOTALL)  # 使用正则表达式匹配和删除多行注释\n",
    "cleaned_code = re.sub(r'//.*', '', cleaned_code)  # 使用正则表达式匹配和删除单行注释\n",
    "\n",
    "functions_lines = [item for item in cleaned_code.split('\\n') if item]\n",
    "functions = extract_functions(file_content)\n",
    "function_dic = {}\n",
    "functions"
   ],
   "metadata": {
    "collapsed": false,
    "ExecuteTime": {
     "end_time": "2024-01-21T06:59:18.823553Z",
     "start_time": "2024-01-21T06:59:18.805731300Z"
    }
   }
  },
  {
   "cell_type": "code",
   "execution_count": 19,
   "outputs": [],
   "source": [
    "def find_duplicates(arr):\n",
    "    seen = set()\n",
    "    duplicates = set()\n",
    "\n",
    "    for item in arr:\n",
    "        if item in seen:\n",
    "            duplicates.add(item)\n",
    "        else:\n",
    "            seen.add(item)\n",
    "\n",
    "    return list(duplicates)\n"
   ],
   "metadata": {
    "collapsed": false,
    "ExecuteTime": {
     "end_time": "2024-01-21T06:59:18.877055600Z",
     "start_time": "2024-01-21T06:59:18.823553Z"
    }
   }
  },
  {
   "cell_type": "code",
   "execution_count": 20,
   "outputs": [
    {
     "data": {
      "text/plain": "['goodG2B', 'goodB2G']"
     },
     "execution_count": 20,
     "metadata": {},
     "output_type": "execute_result"
    }
   ],
   "source": [
    "functions_name_list = []\n",
    "\n",
    "for k in functions:\n",
    "    functions_name_list.append(k[1])\n",
    "good_function = []\n",
    "\n",
    "\n",
    "def starts_with_good(input_str):\n",
    "    if input_str.startswith(\"good\") and len(input_str) > 4:\n",
    "        good_function.append(input_str)\n",
    "\n",
    "\n",
    "for k in functions_name_list:\n",
    "    starts_with_good(k)\n",
    "good_function"
   ],
   "metadata": {
    "collapsed": false,
    "ExecuteTime": {
     "end_time": "2024-01-21T06:59:18.879049200Z",
     "start_time": "2024-01-21T06:59:18.836664700Z"
    }
   }
  },
  {
   "cell_type": "code",
   "execution_count": 21,
   "outputs": [],
   "source": [
    "import random\n",
    "\n",
    "def random_choice(my_array):\n",
    "    if my_array:\n",
    "        return random.choice(my_array)\n",
    "    else:\n",
    "        return None\n",
    "\n",
    "selected_element = random_choice(good_function)\n",
    "\n"
   ],
   "metadata": {
    "collapsed": false,
    "ExecuteTime": {
     "end_time": "2024-01-21T06:59:18.880077Z",
     "start_time": "2024-01-21T06:59:18.854085400Z"
    }
   }
  },
  {
   "cell_type": "code",
   "execution_count": 22,
   "outputs": [],
   "source": [
    "def contains_bad(input_str):\n",
    "    return \"_bad\" in input_str\n",
    "bad_one=None\n",
    "good_one=None\n",
    "void=0"
   ],
   "metadata": {
    "collapsed": false,
    "ExecuteTime": {
     "end_time": "2024-01-21T06:59:18.919035600Z",
     "start_time": "2024-01-21T06:59:18.870570100Z"
    }
   }
  },
  {
   "cell_type": "code",
   "execution_count": 23,
   "outputs": [
    {
     "name": "stdout",
     "output_type": "stream",
     "text": [
      "\n",
      "\n",
      "rteurn valueint\n",
      "function namebad\n",
      "para\n",
      "['int bad()', '{', '    size_t data;', '    ', '    data = 0;', '    ', '    fscanf(stdin, \"%zu\", &data);', '    {', '        char * myString;', '        ', '        ', '        if (data > strlen(HELLO_STRING))', '        {', '            myString = (char *)malloc(data*sizeof(char));', '            if (myString == NULL) {exit(-1);}', '            ', '            strcpy(myString, HELLO_STRING);', '            printLine(myString);', '            free(myString);', '        }', '        else', '        {', '            printLine(\"Input is less than the length of the source string\");', '        }', '    }', '}']\n",
      "\n",
      "\n",
      "rteurn valueint\n",
      "function namegoodG2B\n",
      "para\n",
      "['static int goodG2B()', '{', '    size_t data;', '    ', '    data = 0;', '    ', '    data = 20;', '    {', '        char * myString;', '        ', '        ', '        if (data > strlen(HELLO_STRING))', '        {', '            myString = (char *)malloc(data*sizeof(char));', '            if (myString == NULL) {exit(-1);}', '            ', '            strcpy(myString, HELLO_STRING);', '            printLine(myString);', '            free(myString);', '        }', '        else', '        {', '            printLine(\"Input is less than the length of the source string\");', '        }', '    }', '}']\n",
      "\n",
      "\n",
      "rteurn valueint\n",
      "function namegoodB2G\n",
      "para\n",
      "['static int goodB2G()', '{', '    size_t data;', '    ', '    data = 0;', '    ', '    fscanf(stdin, \"%zu\", &data);', '    {', '        char * myString;', '        ', '        ', '        if (data > strlen(HELLO_STRING) && data < 100)', '        {', '            myString = (char *)malloc(data*sizeof(char));', '            if (myString == NULL) {exit(-1);}', '            ', '            strcpy(myString, HELLO_STRING);', '            printLine(myString);', '            free(myString);', '        }', '        else', '        {', '            printLine(\"Input is less than the length of the source string or too large\");', '        }', '    }', '}']\n",
      "\n",
      "\n",
      "rteurn valuevoid\n",
      "function nameCWE789_Uncontrolled_Mem_Alloc__malloc_char_fscanf_01_good\n",
      "para\n",
      "['void CWE789_Uncontrolled_Mem_Alloc__malloc_char_fscanf_01_good()', '{', '    goodG2B();', '    goodB2G();', '}']\n",
      "\n",
      "\n",
      "rteurn valueint\n",
      "function namemain\n",
      "paraint argc, char * argv[]\n",
      "['int main(int argc, char * argv[])', '{', '    ', '    srand( (unsigned)time(NULL) );', '#ifndef OMITGOOD', '    printLine(\"Calling good()...\");', '    CWE789_Uncontrolled_Mem_Alloc__malloc_char_fscanf_01_good();', '    printLine(\"Finished good()\");', '#endif ', '#ifndef OMITBAD', '    printLine(\"Calling bad()...\");', '    CWE789_Uncontrolled_Mem_Alloc__malloc_char_fscanf_01_bad();', '    printLine(\"Finished bad()\");', '#endif ', '    return 0;', '}']\n"
     ]
    }
   ],
   "source": [
    "for return_type, function_name, function_para in functions:\n",
    "    print(\"\\n\")\n",
    "    print(\"rteurn value\" + return_type)\n",
    "    print(\"function name\" + function_name)\n",
    "    print(\"para\" + function_para)\n",
    "    function_body = find_function_body(return_type, function_name, functions_lines)\n",
    "    print(function_body)\n",
    "\n",
    "    \n",
    "    if contains_bad(function_name) or function_name=='bad':\n",
    "        bad_one=function_body\n",
    "        if return_type.lower()=='void':\n",
    "            void=1\n",
    "            continue;\n",
    "    if selected_element.lower()==function_name.lower():\n",
    "        good_one=function_body\n",
    "        if return_type.lower()=='void':\n",
    "            void=1\n",
    "            continue;\n",
    "\n",
    "\n"
   ],
   "metadata": {
    "collapsed": false,
    "ExecuteTime": {
     "end_time": "2024-01-21T06:59:18.920032700Z",
     "start_time": "2024-01-21T06:59:18.886652600Z"
    }
   }
  },
  {
   "cell_type": "code",
   "execution_count": 24,
   "outputs": [
    {
     "data": {
      "text/plain": "['int bad()',\n '{',\n '    size_t data;',\n '    ',\n '    data = 0;',\n '    ',\n '    fscanf(stdin, \"%zu\", &data);',\n '    {',\n '        char * myString;',\n '        ',\n '        ',\n '        if (data > strlen(HELLO_STRING))',\n '        {',\n '            myString = (char *)malloc(data*sizeof(char));',\n '            if (myString == NULL) {exit(-1);}',\n '            ',\n '            strcpy(myString, HELLO_STRING);',\n '            printLine(myString);',\n '            free(myString);',\n '        }',\n '        else',\n '        {',\n '            printLine(\"Input is less than the length of the source string\");',\n '        }',\n '    }',\n '}']"
     },
     "execution_count": 24,
     "metadata": {},
     "output_type": "execute_result"
    }
   ],
   "source": [
    "bad_one"
   ],
   "metadata": {
    "collapsed": false,
    "ExecuteTime": {
     "end_time": "2024-01-21T06:59:18.952525600Z",
     "start_time": "2024-01-21T06:59:18.922533700Z"
    }
   }
  },
  {
   "cell_type": "code",
   "execution_count": 25,
   "outputs": [
    {
     "data": {
      "text/plain": "['static int goodB2G()',\n '{',\n '    size_t data;',\n '    ',\n '    data = 0;',\n '    ',\n '    fscanf(stdin, \"%zu\", &data);',\n '    {',\n '        char * myString;',\n '        ',\n '        ',\n '        if (data > strlen(HELLO_STRING) && data < 100)',\n '        {',\n '            myString = (char *)malloc(data*sizeof(char));',\n '            if (myString == NULL) {exit(-1);}',\n '            ',\n '            strcpy(myString, HELLO_STRING);',\n '            printLine(myString);',\n '            free(myString);',\n '        }',\n '        else',\n '        {',\n '            printLine(\"Input is less than the length of the source string or too large\");',\n '        }',\n '    }',\n '}']"
     },
     "execution_count": 25,
     "metadata": {},
     "output_type": "execute_result"
    }
   ],
   "source": [
    "good_one"
   ],
   "metadata": {
    "collapsed": false,
    "ExecuteTime": {
     "end_time": "2024-01-21T06:59:18.983Z",
     "start_time": "2024-01-21T06:59:18.954541800Z"
    }
   }
  },
  {
   "cell_type": "code",
   "execution_count": 26,
   "outputs": [
    {
     "name": "stdout",
     "output_type": "stream",
     "text": [
      "success write\n"
     ]
    }
   ],
   "source": [
    "#accessing the return type\n",
    "\n",
    "\n",
    "if void == 0:\n",
    "    func_num = 0\n",
    "first_function_return_type = functions[0][0]\n",
    "#checking the file type that needs to be created\n",
    "file_extension = 'cpp' if 'cpp' in file.name else 'c'\n",
    "output_file_name = f\"equivalencetest.{file_extension}\"\n",
    "\n",
    "with open(output_file_name, 'w') as output_file:\n",
    "    pass\n",
    "\n",
    "if void == 0:\n",
    "\n",
    "\n",
    "    #writing the main\n",
    "    with open(output_file_name, 'w') as output_file:\n",
    "        for k in bad_one:\n",
    "            output_file.write(k + \"\\n\")\n",
    "        for k in good_one:\n",
    "            output_file.write(k + '\\n')\n",
    "        \n",
    "    \n",
    "        output_file.write(\"\\n\")\n",
    "        output_file.write(\"\\nint main()\\n{\\n\")\n",
    "        output_file.write(\"    \" + str(first_function_return_type) + \" x;\\n\")\n",
    "        output_file.write(\"    s2e_make_symbolic(&x, sizeof(x), \\\"x\\\");\\n\")\n",
    "\n",
    "        func_calls = []\n",
    "        for func_num, (return_type, function_name, function_para) in enumerate(functions):\n",
    "            call_str = f\"    {return_type} func{func_num} = {function_name}(x);\\n\"\n",
    "            output_file.write(call_str)\n",
    "            func_calls.append(f\"func{func_num}\")\n",
    "\n",
    "        if len(func_calls) >= 2:\n",
    "            # Create a comparison string that compares all function calls for equality\n",
    "            comparison_string = \" == \".join(func_calls)\n",
    "            assert_statement = f\"    s2e_assert({comparison_string});\\n\"\n",
    "            output_file.write(assert_statement)\n",
    "\n",
    "        output_file.write(\"    return 0;\\n\")\n",
    "        output_file.write(\"}\\n\")\n",
    "    print(\"success write\")\n",
    "else:\n",
    "    print('the return type error')\n"
   ],
   "metadata": {
    "collapsed": false,
    "ExecuteTime": {
     "end_time": "2024-01-21T06:59:19.015039600Z",
     "start_time": "2024-01-21T06:59:18.987989800Z"
    }
   }
  }
 ],
 "metadata": {
  "kernelspec": {
   "display_name": "Python 3",
   "language": "python",
   "name": "python3"
  },
  "language_info": {
   "codemirror_mode": {
    "name": "ipython",
    "version": 2
   },
   "file_extension": ".py",
   "mimetype": "text/x-python",
   "name": "python",
   "nbconvert_exporter": "python",
   "pygments_lexer": "ipython2",
   "version": "2.7.6"
  }
 },
 "nbformat": 4,
 "nbformat_minor": 0
}
