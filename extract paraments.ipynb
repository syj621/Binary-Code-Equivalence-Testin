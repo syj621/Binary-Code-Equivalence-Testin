{
 "cells": [
  {
   "cell_type": "code",
   "execution_count": 13,
   "outputs": [],
   "source": [
    "import re\n",
    "import difflib\n"
   ],
   "metadata": {
    "collapsed": false,
    "ExecuteTime": {
     "start_time": "2024-01-19T14:30:53.200813Z",
     "end_time": "2024-01-19T14:30:53.272619Z"
    }
   }
  },
  {
   "cell_type": "code",
   "execution_count": 14,
   "outputs": [],
   "source": [
    "def extract_functions(file_content):\n",
    "    # 正则表达式模式以匹配C/C++函数声明\n",
    "    function_pattern = r'(\\w+)\\s+(\\w+)\\s*\\(([^)]*)\\)\\s*{'\n",
    "    functions = re.findall(function_pattern, file_content)\n",
    "    return functions"
   ],
   "metadata": {
    "collapsed": false,
    "ExecuteTime": {
     "start_time": "2024-01-19T14:30:53.262646Z",
     "end_time": "2024-01-19T14:30:53.613706Z"
    }
   }
  },
  {
   "cell_type": "code",
   "execution_count": 15,
   "outputs": [],
   "source": [
    "def find_function_body(return_type, function_name, functions_lines):\n",
    "    key = return_type + \" \" + function_name\n",
    "    start_line = [index for index, item in enumerate(functions_lines, 0) if key in item][0]\n",
    "    in_function_body = False\n",
    "    brace_count = 0  # 用于跟踪花括号的嵌套层级\n",
    "    for i, line in enumerate(functions_lines[start_line:]):\n",
    "        if not in_function_body:\n",
    "            if '{' in line:\n",
    "                in_function_body = True\n",
    "                brace_count = 1\n",
    "        else:\n",
    "            if '{' in line:\n",
    "                brace_count = brace_count + 1\n",
    "            if \"}\" in line:\n",
    "                brace_count = brace_count - 1\n",
    "            if brace_count == 0:\n",
    "                if start_line + i < len(functions_lines):\n",
    "                    return functions_lines[start_line:start_line + i + 1]\n",
    "                else:\n",
    "                    return functions_lines[start_line:-1]"
   ],
   "metadata": {
    "collapsed": false,
    "ExecuteTime": {
     "start_time": "2024-01-19T14:30:53.413244Z",
     "end_time": "2024-01-19T14:30:53.694491Z"
    }
   }
  },
  {
   "cell_type": "code",
   "execution_count": 16,
   "outputs": [],
   "source": [
    "def find_called_functions(function_body):\n",
    "    # 正则表达式模式以匹配函数调用\n",
    "    call_pattern = r'\\b(\\w+)\\s*\\('\n",
    "    called_functions = re.findall(call_pattern, function_body)\n",
    "    return called_functions\n"
   ],
   "metadata": {
    "collapsed": false,
    "ExecuteTime": {
     "start_time": "2024-01-19T14:30:53.434188Z",
     "end_time": "2024-01-19T14:30:53.767296Z"
    }
   }
  },
  {
   "cell_type": "code",
   "execution_count": 17,
   "outputs": [
    {
     "ename": "FileNotFoundError",
     "evalue": "[Errno 2] No such file or directory: 'foo.c'",
     "output_type": "error",
     "traceback": [
      "\u001B[1;31m---------------------------------------------------------------------------\u001B[0m",
      "\u001B[1;31mFileNotFoundError\u001B[0m                         Traceback (most recent call last)",
      "Input \u001B[1;32mIn [17]\u001B[0m, in \u001B[0;36m<cell line: 1>\u001B[1;34m()\u001B[0m\n\u001B[1;32m----> 1\u001B[0m \u001B[38;5;28;01mwith\u001B[39;00m \u001B[38;5;28;43mopen\u001B[39;49m\u001B[43m(\u001B[49m\u001B[38;5;124;43m'\u001B[39;49m\u001B[38;5;124;43mfoo.c\u001B[39;49m\u001B[38;5;124;43m'\u001B[39;49m\u001B[43m,\u001B[49m\u001B[43m \u001B[49m\u001B[38;5;124;43m'\u001B[39;49m\u001B[38;5;124;43mr\u001B[39;49m\u001B[38;5;124;43m'\u001B[39;49m\u001B[43m)\u001B[49m \u001B[38;5;28;01mas\u001B[39;00m file:\n\u001B[0;32m      2\u001B[0m     file_content \u001B[38;5;241m=\u001B[39m file\u001B[38;5;241m.\u001B[39mread()\n\u001B[0;32m      4\u001B[0m cleaned_code \u001B[38;5;241m=\u001B[39m re\u001B[38;5;241m.\u001B[39msub(\u001B[38;5;124mr\u001B[39m\u001B[38;5;124m'\u001B[39m\u001B[38;5;124m/\u001B[39m\u001B[38;5;124m\\\u001B[39m\u001B[38;5;124m*.*?\u001B[39m\u001B[38;5;124m\\\u001B[39m\u001B[38;5;124m*/\u001B[39m\u001B[38;5;124m'\u001B[39m, \u001B[38;5;124m'\u001B[39m\u001B[38;5;124m'\u001B[39m, file_content, flags\u001B[38;5;241m=\u001B[39mre\u001B[38;5;241m.\u001B[39mDOTALL)  \u001B[38;5;66;03m# 使用正则表达式匹配和删除多行注释\u001B[39;00m\n",
      "\u001B[1;31mFileNotFoundError\u001B[0m: [Errno 2] No such file or directory: 'foo.c'"
     ]
    }
   ],
   "source": [
    "with open('foo.c', 'r') as file:\n",
    "    file_content = file.read()\n",
    "\n",
    "cleaned_code = re.sub(r'/\\*.*?\\*/', '', file_content, flags=re.DOTALL)  # 使用正则表达式匹配和删除多行注释\n",
    "cleaned_code = re.sub(r'//.*', '', cleaned_code)  # 使用正则表达式匹配和删除单行注释\n",
    "\n",
    "functions_lines = [item for item in cleaned_code.split('\\n') if item]\n",
    "functions = extract_functions(file_content)\n",
    "function_dic = {}"
   ],
   "metadata": {
    "collapsed": false,
    "ExecuteTime": {
     "start_time": "2024-01-19T14:28:29.523428Z",
     "end_time": "2024-01-19T14:28:29.965253Z"
    }
   }
  },
  {
   "cell_type": "code",
   "execution_count": null,
   "outputs": [],
   "source": [
    "#accessing the return type\n",
    "func_num = 0\n",
    "first_function_return_type = functions[0][0]\n",
    "#checking the file type that needs to be created\n",
    "file_extension = 'cpp' if 'cpp' in file.name else 'c'\n",
    "output_file_name = f\"equivalencetest.{file_extension}\"\n",
    "\n",
    "#writing the main\n",
    "with open(output_file_name, 'w') as output_file:\n",
    "    output_file.write(\"\\n\")\n",
    "    output_file.write(\"\\nint main()\\n{\\n\")\n",
    "    output_file.write(\"    \" + str(first_function_return_type) + \" x;\\n\")\n",
    "    output_file.write(\"    s2e_make_symbolic(&x, sizeof(x), \\\"x\\\");\\n\")\n",
    "\n",
    "    func_calls = []\n",
    "    for func_num, (return_type, function_name, function_para) in enumerate(functions):\n",
    "        call_str = f\"    {return_type} func{func_num} = {function_name}(x);\\n\"\n",
    "        output_file.write(call_str)\n",
    "        func_calls.append(f\"func{func_num}\")\n",
    "\n",
    "\n",
    "    if len(func_calls) >= 2:\n",
    "        # Create a comparison string that compares all function calls for equality\n",
    "        comparison_string = \" == \".join(func_calls)\n",
    "        assert_statement = f\"    s2e_assert({comparison_string});\\n\"\n",
    "        output_file.write(assert_statement)\n",
    "\n",
    "    output_file.write(\"    return 0;\\n\")\n",
    "    output_file.write(\"}\\n\")\n",
    "\n"
   ],
   "metadata": {
    "collapsed": false,
    "ExecuteTime": {
     "start_time": "2024-01-19T14:28:29.554345Z",
     "end_time": "2024-01-19T14:28:29.966243Z"
    }
   }
  },
  {
   "cell_type": "code",
   "execution_count": null,
   "outputs": [],
   "source": [
    "def calculate_diff(function1, function2):\n",
    "    # 使用difflib计算两个函数之间的差异\n",
    "    f1=str(function_dic[function1])\n",
    "    f2=str(function_dic[function2])\n",
    "    differ = difflib.Differ()\n",
    "    diff = differ.compare(f1, f2)\n",
    "    return '\\n'.join(diff)\n",
    "\n",
    "\n",
    "keys_list = list(function_dic.keys())\n",
    "differ=calculate_diff(keys_list[0],keys_list[1])\n",
    "print(differ)\n"
   ],
   "metadata": {
    "collapsed": false,
    "ExecuteTime": {
     "end_time": "2023-09-29T22:40:29.835344900Z",
     "start_time": "2023-09-29T22:40:29.828532400Z"
    }
   }
  },
  {
   "cell_type": "markdown",
   "source": [
    "I used Python and regular expressions to complete the task, but I don't think this is the best solution. After writing this code, I also searched for other methods, including using clang and pycparser to generate abstract syntax trees to achieve the same effect. However, I believe that the form of regular expressions is the best way for beginners, especially for query question 4, I think there may be some issues. I think it may be a practical issue with Jupyter Lab."
   ],
   "metadata": {
    "collapsed": false
   }
  }
 ],
 "metadata": {
  "kernelspec": {
   "display_name": "Python 3",
   "language": "python",
   "name": "python3"
  },
  "language_info": {
   "codemirror_mode": {
    "name": "ipython",
    "version": 2
   },
   "file_extension": ".py",
   "mimetype": "text/x-python",
   "name": "python",
   "nbconvert_exporter": "python",
   "pygments_lexer": "ipython2",
   "version": "2.7.6"
  }
 },
 "nbformat": 4,
 "nbformat_minor": 0
}
